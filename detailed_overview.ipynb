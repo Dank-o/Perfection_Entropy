{
 "cells": [
  {
   "cell_type": "markdown",
   "metadata": {},
   "source": [
    "Perfect numbers have been an object of interest since Euclid c. 300 BCE. In particular, the question of whether odd perfect numbers exist is one of the oldest in mathematics. What is a perfect number? Any number can be factored into two or more divisors, eg. $6 = 2 \\times 3$. If the set of proper divisors (that is, not including $n$ itself) of a given number $n$ add up to $n$, then the number is said to be perfect. For example $6$ has proper divisors $1, 2, 3$ and their sum is $1 + 2 + 3 = 6$.\n",
    "\n",
    "Perfect numbers are not common. We know only 48 of them and they grow rather quickly—the 16th perfect number is already over a thousand digits and the 48th has 34,850,340 digits! All known perfect numbers are even and it remains an open question whether any odd ones exist. However, there is a broader category of numbers to which the perfect numbers belong that contains odd numbers—the pseudoperfect numbers. The hope is that, if can classify odd and even pseudoperfect numbers **in a way that depends on their additive structure**, we can get some clues about whether odd perfect numbers exist. With this goal, I defined a notion of entropy over the pseudoperfect numbers and inspected their entropies.\n",
    "\n",
    "A pseudoperfect number is one such that some subset of its proper divisors add up to the number eg. $12$ has proper divisors $1, 2, 3, 4$ and $6$, and we have $12 = 1 + 2 + 3$ + 6 or $12 = 2 + 4 + 6$. Perfect numbers can be seen as the special case where all the proper divisors are included in the sum. As the example shows, there are often many ways to sum the divisors of a pseudoperfect number that isn't strictly perfect. Let's call each combination of divisors that add up to a number $n$ a `perfection' of of $n$. Then, we can treat each perfection as a probability space as we have $d_1/n + d_2/n + d_3/n + ... + d_k/n = 1$ for each divisor $d_i$ in a chosen perfection of $n$. This allows us to utilise Shannon entropy to quantify the complexity of a given perfection $P$, calculated as\n",
    "$$\n",
    "H(P) = - \\sum_{d \\in P} \\frac{d}{n} \\log_2 \\left ( \\frac{d}{n} \\right ).\n",
    "$$\n",
    "\n",
    "Now, as there may be several perfections for a given pseudoperfect number $n$, taking the minimum value of the set of the entropies of each perfection of $n$ is a reasonable choice for characterising the structure of the number. That is, I define the $\\textit{perfection entropy}$ of $n$ as\n",
    "$$\n",
    "    H_p(n) = \\text{min} ( \\{ H(P) \\, | \\, P \\in \\mathcal{P}_n \\} ), \\quad \\text{where }  \\mathcal{P}_n \\text{ is the set of perfections of } n.\n",
    "$$\n",
    "\n",
    "It appears that this perfection entropy classifies the pseudoperfect numbers by their parity!  At the very least the first 10,000 of them (all under 40,657). As the figure 1 shows, all the entropies for odd pseudoperfect numbers are above the dashed line and the the entropies of the evens are below. To keep the figures uncluttered, I have plotted only the primitive pseudoperfect numbers, that is, pseudoperfect numbers that are not multiples of other pseudoperfect numbers.\n",
    "\n",
    "**Figure 1**\n",
    "![alt text](perfection_entropies_primitives.png)\n",
    "\n",
    "Only the first four perfect numbers 6, 28, 496 and 8128 are visible in in figure 1 as the subsequent ones are very large. Interestingly, they appear to converge 'neatly' (ie. monotonically) to the value 2, as figure 2 indicates. (They are also the only subset of pseudoperfect numbers I've investigated whose entropies convincingly appear converge.)\n",
    "\n",
    "**Figure 2**\n",
    "![alt text](Perfection_entropies_perfect_only.png)\n",
    "\n",
    "Further analytic work is needed to obtain concrete results. But the data suggest that answering whether odd perfect numbers exists may be served by the following conjectures:\n",
    "\n",
    "(1) that the entropy of odd pseudoperfect numbers is bounded below by a value close to 2.55 and\n",
    "\n",
    "(2) the entropy of the perfect numbers does not exceed 2.\n",
    "\n",
    "Addressing conjecture (2) is expected to be particularly challenging as it requires not using existing results that have been proven for even perfect numbers, which would amount to circular reasoning by implicity assuming that all perfect numbers are even.\n",
    "\n",
    "For here are all the first 10,000 pseudoperfect numbers.\n",
    "**Figure 3**\n",
    "![alt text](Perfection_entropies.png)"
   ]
  }
 ],
 "metadata": {
  "language_info": {
   "name": "python"
  }
 },
 "nbformat": 4,
 "nbformat_minor": 2
}
